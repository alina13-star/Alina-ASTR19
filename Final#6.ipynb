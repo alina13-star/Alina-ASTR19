{
 "cells": [
  {
   "cell_type": "code",
   "execution_count": 1,
   "id": "9ade1dd9-7715-42dc-9406-9cf5d9596210",
   "metadata": {},
   "outputs": [
    {
     "name": "stdout",
     "output_type": "stream",
     "text": [
      "Dummy small_f090w.fits created!\n"
     ]
    }
   ],
   "source": [
    "import numpy as np\n",
    "from astropy.io import fits\n",
    "\n",
    "# Create dummy data to simulate JWST f090w image (downsampled version)\n",
    "data = np.random.poisson(lam=100.0, size=(1024, 1024)).astype(np.float32)\n",
    "\n",
    "# Add a few bright fake sources\n",
    "for i in range(10):\n",
    "    x, y = np.random.randint(0, 1024, size=2)\n",
    "    data[y-3:y+3, x-3:x+3] += np.random.randint(500, 1500)\n",
    "\n",
    "# Write to FITS file\n",
    "hdu = fits.PrimaryHDU(data)\n",
    "hdu.writeto(\"small_f090w.fits\", overwrite=True)\n",
    "\n",
    "print(\"Dummy small_f090w.fits created!\")\n"
   ]
  },
  {
   "cell_type": "code",
   "execution_count": 2,
   "id": "1b0136af-4d3a-479f-a792-7f69a8ea6a5a",
   "metadata": {},
   "outputs": [
    {
     "name": "stdout",
     "output_type": "stream",
     "text": [
      "Number of sources detected: 10\n"
     ]
    },
    {
     "data": {
      "image/png": "[encoded data removed]",
      "text/plain": [
       "<Figure size 640x480 with 1 Axes>"
      ]
     },
     "metadata": {},
     "output_type": "display_data"
    },
    {
     "name": "stdout",
     "output_type": "stream",
     "text": [
      "Mean flux: 31778.1716796875\n",
      "Median flux: 27630.142578125\n",
      "Standard deviation of fluxes: 10664.853113818268\n",
      "Largest flux: 49814.578125\n",
      "Located at x=539.5008564987505, y=295.5018711093151\n",
      "This is 1.69 standard deviations above the mean.\n"
     ]
    }
   ],
   "source": [
    "import numpy as np\n",
    "import matplotlib.pyplot as plt\n",
    "import sep\n",
    "from astropy.io import fits\n",
    "from astropy.visualization import simple_norm\n",
    "\n",
    "# Load the small f090w FITS file you just created\n",
    "with fits.open(\"small_f090w.fits\") as hdul:\n",
    "    data = hdul[0].data.astype(np.float32)\n",
    "\n",
    "# Background subtraction\n",
    "bkg = sep.Background(data)\n",
    "data_sub = data - bkg.back()\n",
    "\n",
    "# Extract sources\n",
    "sep.set_extract_pixstack(1000000)  # Increase buffer for safety\n",
    "objects = sep.extract(data_sub, thresh=3.0, err=bkg.globalrms)\n",
    "\n",
    "print(f\"Number of sources detected: {len(objects)}\")\n",
    "\n",
    "# Histogram of fluxes\n",
    "fluxes = objects['flux']\n",
    "plt.hist(fluxes, bins=30)\n",
    "plt.xlabel(\"Flux\")\n",
    "plt.ylabel(\"Number of Sources\")\n",
    "plt.title(\"Flux Histogram\")\n",
    "plt.show()\n",
    "\n",
    "# Compute mean, median, std\n",
    "mean_flux = np.mean(fluxes)\n",
    "median_flux = np.median(fluxes)\n",
    "std_flux = np.std(fluxes)\n",
    "\n",
    "print(f\"Mean flux: {mean_flux}\")\n",
    "print(f\"Median flux: {median_flux}\")\n",
    "print(f\"Standard deviation of fluxes: {std_flux}\")\n",
    "\n",
    "# Find largest outlier\n",
    "max_flux = np.max(fluxes)\n",
    "max_flux_index = np.argmax(fluxes)\n",
    "max_flux_obj = objects[max_flux_index]\n",
    "\n",
    "sigma_away = (max_flux - mean_flux) / std_flux\n",
    "print(f\"Largest flux: {max_flux}\")\n",
    "print(f\"Located at x={max_flux_obj['x']}, y={max_flux_obj['y']}\")\n",
    "print(f\"This is {sigma_away:.2f} standard deviations above the mean.\")\n"
   ]
  }
 ],
 "metadata": {
  "kernelspec": {
   "display_name": "Python 3 (ipykernel)",
   "language": "python",
   "name": "python3"
  },
  "language_info": {
   "codemirror_mode": {
    "name": "ipython",
    "version": 3
   },
   "file_extension": ".py",
   "mimetype": "text/x-python",
   "name": "python",
   "nbconvert_exporter": "python",
   "pygments_lexer": "ipython3",
   "version": "3.12.0rc2"
  }
 },
 "nbformat": 4,
 "nbformat_minor": 5
}
